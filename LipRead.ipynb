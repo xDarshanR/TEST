{
  "cells": [
    {
      "cell_type": "markdown",
      "metadata": {
        "id": "WBy_HUgViWAj"
      },
      "source": [
        "0. Installing And Importing Dependecies\n"
      ]
    },
    {
      "cell_type": "code",
      "execution_count": null,
      "metadata": {
        "colab": {
          "base_uri": "https://localhost:8080/"
        },
        "collapsed": true,
        "id": "ZnACZ3l7ieHS",
        "outputId": "f98ee50d-506f-4cb3-bf45-6aba716033bc"
      },
      "outputs": [],
      "source": [
        "!pip install opencv-python==4.6.0.66 tensorflow==2.10.1 imageio==2.9.0 matplotlib==3.6.2 gdown==4.6.0\n",
        "# !pip install opencv-python matplotlib imageio gdown tensorflow"
      ]
    },
    {
      "cell_type": "code",
      "execution_count": 2,
      "metadata": {
        "id": "fpDLQJLgR3Te"
      },
      "outputs": [],
      "source": [
        "# !pip install imageio==2.23.0\n",
        "# !pip install --upgrade gdown"
      ]
    },
    {
      "cell_type": "code",
      "execution_count": 2,
      "metadata": {
        "id": "PpWnnCJosLvI"
      },
      "outputs": [],
      "source": []
    },
    {
      "cell_type": "code",
      "execution_count": 3,
      "metadata": {
        "id": "SCKzfz4zkks5"
      },
      "outputs": [],
      "source": [
        "import os\n",
        "import cv2\n",
        "import tensorflow as tf\n",
        "import numpy as np\n",
        "from typing import List\n",
        "from matplotlib import pyplot as plt\n",
        "import imageio"
      ]
    },
    {
      "cell_type": "code",
      "execution_count": 4,
      "metadata": {
        "colab": {
          "base_uri": "https://localhost:8080/"
        },
        "id": "6AKq8ZLutX75",
        "outputId": "d44cf211-7cd9-494b-ac5a-632d04003324"
      },
      "outputs": [
        {
          "name": "stdout",
          "output_type": "stream",
          "text": [
            "3.10.12 (main, Nov 20 2023, 15:14:05) [GCC 11.4.0]\n"
          ]
        }
      ],
      "source": [
        "import sys\n",
        "print(sys.version)\n"
      ]
    },
    {
      "cell_type": "code",
      "execution_count": 5,
      "metadata": {
        "colab": {
          "base_uri": "https://localhost:8080/"
        },
        "id": "u6US-wMKmChd",
        "outputId": "3a0837f3-2346-47b9-81c9-ef906cb1892d"
      },
      "outputs": [
        {
          "data": {
            "text/plain": [
              "[]"
            ]
          },
          "execution_count": 5,
          "metadata": {},
          "output_type": "execute_result"
        }
      ],
      "source": [
        "tf.config.list_physical_devices('GPU')"
      ]
    },
    {
      "cell_type": "markdown",
      "metadata": {
        "id": "Leg5JiFtO00Z"
      },
      "source": [
        "To Prevent Exponential Memory Growth"
      ]
    },
    {
      "cell_type": "code",
      "execution_count": 6,
      "metadata": {
        "id": "u4r8O3SAmKPS"
      },
      "outputs": [],
      "source": [
        "physical_devices = tf.config.list_physical_devices('GPU')\n",
        "try:\n",
        "  tf.config.experimental.set_memory_growth(physical_devices[0], True)\n",
        "except:\n",
        "  pass"
      ]
    },
    {
      "cell_type": "markdown",
      "metadata": {
        "id": "Lc05FC13nYpH"
      },
      "source": [
        "1. Build Data Loading Functions"
      ]
    },
    {
      "cell_type": "code",
      "execution_count": 7,
      "metadata": {
        "id": "fQeKl7flnZaY"
      },
      "outputs": [],
      "source": [
        "import gdown"
      ]
    },
    {
      "cell_type": "markdown",
      "metadata": {
        "id": "rJM7LAYBGuzL"
      },
      "source": []
    },
    {
      "cell_type": "markdown",
      "metadata": {
        "id": "_Jy1bIghGuwH"
      },
      "source": []
    },
    {
      "cell_type": "code",
      "execution_count": null,
      "metadata": {
        "colab": {
          "base_uri": "https://localhost:8080/"
        },
        "collapsed": true,
        "id": "CKKFNLY4nbKW",
        "outputId": "655707ab-e12f-4748-bf71-887c63ddcbdc"
      },
      "outputs": [],
      "source": [
        " url = 'https://drive.google.com/uc?id=1YlvpDLix3S-U8fd-gqRwPcWXAXm8JwjL'\n",
        "output = 'data.zip'\n",
        "gdown.download(url, output, quiet=False)\n",
        "gdown.extractall('data.zip')"
      ]
    },
    {
      "cell_type": "code",
      "execution_count": 8,
      "metadata": {
        "id": "_MCUB_2317zk"
      },
      "outputs": [],
      "source": []
    },
    {
      "cell_type": "code",
      "execution_count": 9,
      "metadata": {
        "id": "vCT2kbxCo8Fd"
      },
      "outputs": [],
      "source": [
        "def load_video(path:str) -> List[float]:\n",
        "\n",
        "    cap = cv2.VideoCapture(path)\n",
        "    frames = []\n",
        "    for _ in range(int(cap.get(cv2.CAP_PROP_FRAME_COUNT))):\n",
        "        ret, frame = cap.read()\n",
        "        frame = tf.image.rgb_to_grayscale(frame)\n",
        "        frames.append(frame[190:236,80:220,:])  #To isolate the lip region with this statiscal value\n",
        "    cap.release()\n",
        "\n",
        "    mean = tf.math.reduce_mean(frames)\n",
        "    std = tf.math.reduce_std(tf.cast(frames, tf.float32))\n",
        "    return tf.cast((frames - mean), tf.float32) / std"
      ]
    },
    {
      "cell_type": "code",
      "execution_count": 10,
      "metadata": {
        "id": "6eGwMAqTpXM9"
      },
      "outputs": [],
      "source": [
        "vocab = [x for x in \"abcdefghijklmnopqrstuvwxyz'?!123456789 \"]"
      ]
    },
    {
      "cell_type": "code",
      "execution_count": 11,
      "metadata": {
        "colab": {
          "base_uri": "https://localhost:8080/"
        },
        "id": "OmzlDBldpYK2",
        "outputId": "675587b7-a61c-4764-c003-5c7f18d552b8"
      },
      "outputs": [
        {
          "name": "stdout",
          "output_type": "stream",
          "text": [
            "The vocabulary is: ['', 'a', 'b', 'c', 'd', 'e', 'f', 'g', 'h', 'i', 'j', 'k', 'l', 'm', 'n', 'o', 'p', 'q', 'r', 's', 't', 'u', 'v', 'w', 'x', 'y', 'z', \"'\", '?', '!', '1', '2', '3', '4', '5', '6', '7', '8', '9', ' '] (size =40)\n"
          ]
        }
      ],
      "source": [
        "char_to_num = tf.keras.layers.StringLookup(vocabulary=vocab, oov_token=\"\")\n",
        "num_to_char = tf.keras.layers.StringLookup(\n",
        "    vocabulary=char_to_num.get_vocabulary(), oov_token=\"\", invert=True\n",
        ")\n",
        "\n",
        "print(\n",
        "    f\"The vocabulary is: {char_to_num.get_vocabulary()} \"\n",
        "    f\"(size ={char_to_num.vocabulary_size()})\"\n",
        ")"
      ]
    },
    {
      "cell_type": "code",
      "execution_count": 12,
      "metadata": {
        "id": "yddBNeCYqk5y"
      },
      "outputs": [],
      "source": [
        "def load_alignments(path:str) -> List[str]:\n",
        "    with open(path, 'r') as f:\n",
        "        lines = f.readlines()\n",
        "    tokens = []\n",
        "    for line in lines:\n",
        "        line = line.split()\n",
        "        if line[2] != 'sil':\n",
        "            tokens = [*tokens,' ',line[2]]\n",
        "    return char_to_num(tf.reshape(tf.strings.unicode_split(tokens, input_encoding='UTF-8'), (-1)))[1:]"
      ]
    },
    {
      "cell_type": "code",
      "execution_count": 13,
      "metadata": {
        "id": "wBOi1PdLqruh"
      },
      "outputs": [],
      "source": [
        "def load_data(path: str):\n",
        "    path = bytes.decode(path.numpy())\n",
        "    file_name = path.split(\"/\")[-1].split(\".\")[0]\n",
        "    # File name splitting for windows\n",
        "    # file_name = path.split('\\\\')[-1].split('.')[0]\n",
        "    video_path = os.path.join('data','s1',f'{file_name}.mpg')\n",
        "    alignment_path = os.path.join('data','alignments','s1',f'{file_name}.align')\n",
        "    frames = load_video(video_path)\n",
        "    alignments = load_alignments(alignment_path)\n",
        "\n",
        "    return frames, alignments\n"
      ]
    },
    {
      "cell_type": "code",
      "execution_count": 14,
      "metadata": {
        "id": "Nx6v9_sCrci5"
      },
      "outputs": [],
      "source": [
        "test_path = './data/alignments/s1/bbal6n.align'\n"
      ]
    },
    {
      "cell_type": "code",
      "execution_count": 15,
      "metadata": {
        "colab": {
          "base_uri": "https://localhost:8080/",
          "height": 35
        },
        "id": "1KjDE-h6rek6",
        "outputId": "bfe2a14d-2fdb-4ffb-9e63-c6a097a46c1e"
      },
      "outputs": [
        {
          "data": {
            "application/vnd.google.colaboratory.intrinsic+json": {
              "type": "string"
            },
            "text/plain": [
              "'bbal6n'"
            ]
          },
          "execution_count": 15,
          "metadata": {},
          "output_type": "execute_result"
        }
      ],
      "source": [
        "tf.convert_to_tensor(test_path).numpy().decode('utf-8').split('/')[-1].split('.')[0]\n"
      ]
    },
    {
      "cell_type": "code",
      "execution_count": 16,
      "metadata": {
        "id": "QCK33ty-rhgH"
      },
      "outputs": [],
      "source": [
        "frames, alignments = load_data(tf.convert_to_tensor(test_path))\n"
      ]
    },
    {
      "cell_type": "code",
      "execution_count": 17,
      "metadata": {
        "colab": {
          "base_uri": "https://localhost:8080/",
          "height": 245
        },
        "id": "Xmc43RbMPmfo",
        "outputId": "3a8846be-7c30-4744-93ec-24030bada5f5"
      },
      "outputs": [
        {
          "data": {
            "text/plain": [
              "<matplotlib.image.AxesImage at 0x79672723d8d0>"
            ]
          },
          "execution_count": 17,
          "metadata": {},
          "output_type": "execute_result"
        },
        {
          "data": {
            "image/png": "[encoded data removed]",
            "text/plain": [
              "<Figure size 640x480 with 1 Axes>"
            ]
          },
          "metadata": {},
          "output_type": "display_data"
        }
      ],
      "source": [
        "plt.imshow(frames[40])"
      ]
    },
    {
      "cell_type": "code",
      "execution_count": 18,
      "metadata": {
        "colab": {
          "base_uri": "https://localhost:8080/"
        },
        "id": "vIFKUm02P1Jp",
        "outputId": "2778771f-48db-4eee-a0d2-70d7bec4b4d2"
      },
      "outputs": [
        {
          "data": {
            "text/plain": [
              "<tf.Tensor: shape=(21,), dtype=int64, numpy=\n",
              "array([ 2,  9, 14, 39,  2, 12, 21,  5, 39,  1, 20, 39, 12, 39, 19,  9, 24,\n",
              "       39, 14, 15, 23])>"
            ]
          },
          "execution_count": 18,
          "metadata": {},
          "output_type": "execute_result"
        }
      ],
      "source": [
        "alignments"
      ]
    },
    {
      "cell_type": "code",
      "execution_count": 19,
      "metadata": {
        "colab": {
          "base_uri": "https://localhost:8080/"
        },
        "id": "NjdefZZBQncw",
        "outputId": "2518bbc3-719a-452f-ee95-bcf315012c26"
      },
      "outputs": [
        {
          "data": {
            "text/plain": [
              "<tf.Tensor: shape=(), dtype=string, numpy=b'bin blue at l six now'>"
            ]
          },
          "execution_count": 19,
          "metadata": {},
          "output_type": "execute_result"
        }
      ],
      "source": [
        "tf.strings.reduce_join([bytes.decode(x) for x in num_to_char(alignments.numpy()).numpy()])"
      ]
    },
    {
      "cell_type": "code",
      "execution_count": 20,
      "metadata": {
        "id": "DoVPOLu6QrZ7"
      },
      "outputs": [],
      "source": [
        "def mappable_function(path:str) ->List[str]:\n",
        "    result = tf.py_function(load_data, [path], (tf.float32, tf.int64))\n",
        "    return result"
      ]
    },
    {
      "cell_type": "markdown",
      "metadata": {
        "id": "jNcBOMghRVxA"
      },
      "source": [
        "2. Create Data Pipeline"
      ]
    },
    {
      "cell_type": "code",
      "execution_count": 21,
      "metadata": {
        "id": "u3ZkOjbCRWPc"
      },
      "outputs": [],
      "source": [
        "from matplotlib import pyplot as plt"
      ]
    },
    {
      "cell_type": "code",
      "execution_count": 22,
      "metadata": {
        "id": "-e92GpSfRg49"
      },
      "outputs": [],
      "source": [
        "data = tf.data.Dataset.list_files('./data/s1/*.mpg')\n",
        "data = data.shuffle(500, reshuffle_each_iteration=False)\n",
        "data = data.map(mappable_function)\n",
        "data = data.padded_batch(2, padded_shapes=([75,None,None,None],[40]))\n",
        "data = data.prefetch(tf.data.AUTOTUNE)\n",
        "# Added for split\n",
        "train = data.take(450)\n",
        "test = data.skip(450)"
      ]
    },
    {
      "cell_type": "code",
      "execution_count": 23,
      "metadata": {
        "id": "m_tq5q25SPoK"
      },
      "outputs": [],
      "source": [
        "frames, alignments = data.as_numpy_iterator().next()"
      ]
    },
    {
      "cell_type": "markdown",
      "metadata": {
        "id": "OF57M74EiU5e"
      },
      "source": []
    },
    {
      "cell_type": "code",
      "execution_count": 24,
      "metadata": {
        "id": "9G0Lq8hrEakK"
      },
      "outputs": [],
      "source": [
        "sample = data.as_numpy_iterator()"
      ]
    },
    {
      "cell_type": "code",
      "execution_count": 25,
      "metadata": {
        "colab": {
          "base_uri": "https://localhost:8080/"
        },
        "collapsed": true,
        "id": "7RtZJ0H6Ebkf",
        "outputId": "8c070018-924b-4e58-f126-a3209831772f"
      },
      "outputs": [
        {
          "data": {
            "text/plain": [
              "array([[[[[ 1.4848511 ],\n",
              "          [ 1.6052444 ],\n",
              "          [ 1.5249822 ],\n",
              "          ...,\n",
              "          [ 0.28091776],\n",
              "          [ 0.28091776],\n",
              "          [ 0.20065555]],\n",
              "\n",
              "         [[ 1.5249822 ],\n",
              "          [ 1.6052444 ],\n",
              "          [ 1.44472   ],\n",
              "          ...,\n",
              "          [ 0.28091776],\n",
              "          [ 0.28091776],\n",
              "          [ 0.20065555]],\n",
              "\n",
              "         [[ 1.3644577 ],\n",
              "          [ 1.3644577 ],\n",
              "          [ 1.44472   ],\n",
              "          ...,\n",
              "          [ 0.28091776],\n",
              "          [ 0.16052444],\n",
              "          [ 0.16052444]],\n",
              "\n",
              "         ...,\n",
              "\n",
              "         [[ 1.0434089 ],\n",
              "          [ 1.0434089 ],\n",
              "          [ 1.0434089 ],\n",
              "          ...,\n",
              "          [10.233433  ],\n",
              "          [10.233433  ],\n",
              "          [10.233433  ]],\n",
              "\n",
              "         [[ 1.0032778 ],\n",
              "          [ 1.0032778 ],\n",
              "          [ 0.9631467 ],\n",
              "          ...,\n",
              "          [10.193302  ],\n",
              "          [10.193302  ],\n",
              "          [10.193302  ]],\n",
              "\n",
              "         [[ 0.9631467 ],\n",
              "          [ 0.9631467 ],\n",
              "          [ 0.9631467 ],\n",
              "          ...,\n",
              "          [10.193302  ],\n",
              "          [10.193302  ],\n",
              "          [10.193302  ]]],\n",
              "\n",
              "\n",
              "        [[[ 1.4045888 ],\n",
              "          [ 1.6052444 ],\n",
              "          [ 1.5651133 ],\n",
              "          ...,\n",
              "          [ 0.24078667],\n",
              "          [ 0.20065555],\n",
              "          [ 0.16052444]],\n",
              "\n",
              "         [[ 1.5249822 ],\n",
              "          [ 1.4848511 ],\n",
              "          [ 1.44472   ],\n",
              "          ...,\n",
              "          [ 0.24078667],\n",
              "          [ 0.20065555],\n",
              "          [ 0.16052444]],\n",
              "\n",
              "         [[ 1.3644577 ],\n",
              "          [ 1.3644577 ],\n",
              "          [ 1.4045888 ],\n",
              "          ...,\n",
              "          [ 0.24078667],\n",
              "          [ 0.16052444],\n",
              "          [ 0.16052444]],\n",
              "\n",
              "         ...,\n",
              "\n",
              "         [[ 1.0032778 ],\n",
              "          [ 1.0032778 ],\n",
              "          [ 1.0032778 ],\n",
              "          ...,\n",
              "          [10.233433  ],\n",
              "          [10.233433  ],\n",
              "          [10.233433  ]],\n",
              "\n",
              "         [[ 1.0032778 ],\n",
              "          [ 1.0032778 ],\n",
              "          [ 0.9631467 ],\n",
              "          ...,\n",
              "          [10.193302  ],\n",
              "          [10.193302  ],\n",
              "          [10.193302  ]],\n",
              "\n",
              "         [[ 0.9631467 ],\n",
              "          [ 0.9631467 ],\n",
              "          [ 0.9631467 ],\n",
              "          ...,\n",
              "          [10.193302  ],\n",
              "          [10.193302  ],\n",
              "          [10.193302  ]]],\n",
              "\n",
              "\n",
              "        [[[ 1.44472   ],\n",
              "          [ 1.6052444 ],\n",
              "          [ 1.5651133 ],\n",
              "          ...,\n",
              "          [ 0.20065555],\n",
              "          [ 0.16052444],\n",
              "          [ 0.16052444]],\n",
              "\n",
              "         [[ 1.4848511 ],\n",
              "          [ 1.4848511 ],\n",
              "          [ 1.44472   ],\n",
              "          ...,\n",
              "          [ 0.20065555],\n",
              "          [ 0.16052444],\n",
              "          [ 0.16052444]],\n",
              "\n",
              "         [[ 1.4045888 ],\n",
              "          [ 1.4045888 ],\n",
              "          [ 1.44472   ],\n",
              "          ...,\n",
              "          [ 0.28091776],\n",
              "          [ 0.20065555],\n",
              "          [ 0.20065555]],\n",
              "\n",
              "         ...,\n",
              "\n",
              "         [[ 1.0032778 ],\n",
              "          [ 1.0032778 ],\n",
              "          [ 0.9631467 ],\n",
              "          ...,\n",
              "          [10.233433  ],\n",
              "          [10.233433  ],\n",
              "          [10.233433  ]],\n",
              "\n",
              "         [[ 1.0032778 ],\n",
              "          [ 0.9631467 ],\n",
              "          [ 0.9631467 ],\n",
              "          ...,\n",
              "          [10.193302  ],\n",
              "          [10.193302  ],\n",
              "          [10.193302  ]],\n",
              "\n",
              "         [[ 0.9631467 ],\n",
              "          [ 0.9631467 ],\n",
              "          [ 0.92301553],\n",
              "          ...,\n",
              "          [10.193302  ],\n",
              "          [10.193302  ],\n",
              "          [10.193302  ]]],\n",
              "\n",
              "\n",
              "        ...,\n",
              "\n",
              "\n",
              "        [[[ 1.5651133 ],\n",
              "          [ 1.4848511 ],\n",
              "          [ 1.5651133 ],\n",
              "          ...,\n",
              "          [ 0.12039334],\n",
              "          [ 0.16052444],\n",
              "          [ 0.16052444]],\n",
              "\n",
              "         [[ 1.5651133 ],\n",
              "          [ 1.5651133 ],\n",
              "          [ 1.44472   ],\n",
              "          ...,\n",
              "          [ 0.12039334],\n",
              "          [ 0.16052444],\n",
              "          [ 0.16052444]],\n",
              "\n",
              "         [[ 1.44472   ],\n",
              "          [ 1.44472   ],\n",
              "          [ 1.4848511 ],\n",
              "          ...,\n",
              "          [ 0.16052444],\n",
              "          [ 0.16052444],\n",
              "          [ 0.16052444]],\n",
              "\n",
              "         ...,\n",
              "\n",
              "         [[ 1.0032778 ],\n",
              "          [ 1.0032778 ],\n",
              "          [ 1.0032778 ],\n",
              "          ...,\n",
              "          [10.11304   ],\n",
              "          [10.11304   ],\n",
              "          [10.11304   ]],\n",
              "\n",
              "         [[ 1.0032778 ],\n",
              "          [ 1.0032778 ],\n",
              "          [ 1.0032778 ],\n",
              "          ...,\n",
              "          [10.11304   ],\n",
              "          [10.11304   ],\n",
              "          [10.11304   ]],\n",
              "\n",
              "         [[ 1.0032778 ],\n",
              "          [ 1.0032778 ],\n",
              "          [ 0.9631467 ],\n",
              "          ...,\n",
              "          [10.11304   ],\n",
              "          [10.11304   ],\n",
              "          [10.11304   ]]],\n",
              "\n",
              "\n",
              "        [[[ 1.5249822 ],\n",
              "          [ 1.5249822 ],\n",
              "          [ 1.44472   ],\n",
              "          ...,\n",
              "          [ 0.16052444],\n",
              "          [ 0.12039334],\n",
              "          [ 0.12039334]],\n",
              "\n",
              "         [[ 1.44472   ],\n",
              "          [ 1.5651133 ],\n",
              "          [ 1.4848511 ],\n",
              "          ...,\n",
              "          [ 0.16052444],\n",
              "          [ 0.12039334],\n",
              "          [ 0.12039334]],\n",
              "\n",
              "         [[ 1.4848511 ],\n",
              "          [ 1.4848511 ],\n",
              "          [ 1.5249822 ],\n",
              "          ...,\n",
              "          [ 0.20065555],\n",
              "          [ 0.16052444],\n",
              "          [ 0.16052444]],\n",
              "\n",
              "         ...,\n",
              "\n",
              "         [[ 1.0032778 ],\n",
              "          [ 1.0032778 ],\n",
              "          [ 0.9631467 ],\n",
              "          ...,\n",
              "          [10.193302  ],\n",
              "          [10.193302  ],\n",
              "          [10.193302  ]],\n",
              "\n",
              "         [[ 1.0032778 ],\n",
              "          [ 0.9631467 ],\n",
              "          [ 0.9631467 ],\n",
              "          ...,\n",
              "          [10.193302  ],\n",
              "          [10.193302  ],\n",
              "          [10.193302  ]],\n",
              "\n",
              "         [[ 0.9631467 ],\n",
              "          [ 0.9631467 ],\n",
              "          [ 0.9631467 ],\n",
              "          ...,\n",
              "          [10.193302  ],\n",
              "          [10.193302  ],\n",
              "          [10.193302  ]]],\n",
              "\n",
              "\n",
              "        [[[ 1.5249822 ],\n",
              "          [ 1.5249822 ],\n",
              "          [ 1.4045888 ],\n",
              "          ...,\n",
              "          [ 0.20065555],\n",
              "          [ 0.12039334],\n",
              "          [ 0.12039334]],\n",
              "\n",
              "         [[ 1.44472   ],\n",
              "          [ 1.6052444 ],\n",
              "          [ 1.44472   ],\n",
              "          ...,\n",
              "          [ 0.20065555],\n",
              "          [ 0.12039334],\n",
              "          [ 0.12039334]],\n",
              "\n",
              "         [[ 1.44472   ],\n",
              "          [ 1.44472   ],\n",
              "          [ 1.5249822 ],\n",
              "          ...,\n",
              "          [ 0.20065555],\n",
              "          [ 0.16052444],\n",
              "          [ 0.20065555]],\n",
              "\n",
              "         ...,\n",
              "\n",
              "         [[ 1.0032778 ],\n",
              "          [ 1.0032778 ],\n",
              "          [ 1.0032778 ],\n",
              "          ...,\n",
              "          [10.193302  ],\n",
              "          [10.193302  ],\n",
              "          [10.193302  ]],\n",
              "\n",
              "         [[ 1.0032778 ],\n",
              "          [ 1.0032778 ],\n",
              "          [ 0.9631467 ],\n",
              "          ...,\n",
              "          [10.193302  ],\n",
              "          [10.193302  ],\n",
              "          [10.193302  ]],\n",
              "\n",
              "         [[ 1.0032778 ],\n",
              "          [ 0.9631467 ],\n",
              "          [ 0.9631467 ],\n",
              "          ...,\n",
              "          [10.193302  ],\n",
              "          [10.193302  ],\n",
              "          [10.193302  ]]]],\n",
              "\n",
              "\n",
              "\n",
              "       [[[[ 1.347844  ],\n",
              "          [ 1.3842722 ],\n",
              "          [ 1.4935569 ],\n",
              "          ...,\n",
              "          [ 0.40071037],\n",
              "          [ 0.36428216],\n",
              "          [ 0.36428216]],\n",
              "\n",
              "         [[ 1.3114158 ],\n",
              "          [ 1.4207004 ],\n",
              "          [ 1.4207004 ],\n",
              "          ...,\n",
              "          [ 0.40071037],\n",
              "          [ 0.36428216],\n",
              "          [ 0.36428216]],\n",
              "\n",
              "         [[ 1.4935569 ],\n",
              "          [ 1.4935569 ],\n",
              "          [ 1.5299851 ],\n",
              "          ...,\n",
              "          [ 0.40071037],\n",
              "          [ 0.36428216],\n",
              "          [ 0.36428216]],\n",
              "\n",
              "         ...,\n",
              "\n",
              "         [[ 1.0564183 ],\n",
              "          [ 1.0564183 ],\n",
              "          [ 1.0564183 ],\n",
              "          ...,\n",
              "          [ 0.03642822],\n",
              "          [ 0.03642822],\n",
              "          [ 9.289195  ]],\n",
              "\n",
              "         [[ 1.0564183 ],\n",
              "          [ 1.0564183 ],\n",
              "          [ 1.0564183 ],\n",
              "          ...,\n",
              "          [ 0.14571287],\n",
              "          [ 0.14571287],\n",
              "          [ 0.10928465]],\n",
              "\n",
              "         [[ 1.0564183 ],\n",
              "          [ 1.0564183 ],\n",
              "          [ 1.0564183 ],\n",
              "          ...,\n",
              "          [ 0.10928465],\n",
              "          [ 0.10928465],\n",
              "          [ 0.07285643]]],\n",
              "\n",
              "\n",
              "        [[[ 1.347844  ],\n",
              "          [ 1.4935569 ],\n",
              "          [ 1.4935569 ],\n",
              "          ...,\n",
              "          [ 0.36428216],\n",
              "          [ 0.29142573],\n",
              "          [ 0.29142573]],\n",
              "\n",
              "         [[ 1.3842722 ],\n",
              "          [ 1.4207004 ],\n",
              "          [ 1.4935569 ],\n",
              "          ...,\n",
              "          [ 0.36428216],\n",
              "          [ 0.29142573],\n",
              "          [ 0.29142573]],\n",
              "\n",
              "         [[ 1.4207004 ],\n",
              "          [ 1.4207004 ],\n",
              "          [ 1.4935569 ],\n",
              "          ...,\n",
              "          [ 0.32785395],\n",
              "          [ 0.29142573],\n",
              "          [ 0.29142573]],\n",
              "\n",
              "         ...,\n",
              "\n",
              "         [[ 1.0928465 ],\n",
              "          [ 1.0928465 ],\n",
              "          [ 1.0928465 ],\n",
              "          ...,\n",
              "          [ 0.        ],\n",
              "          [ 0.        ],\n",
              "          [ 9.252767  ]],\n",
              "\n",
              "         [[ 1.0564183 ],\n",
              "          [ 1.0564183 ],\n",
              "          [ 1.0564183 ],\n",
              "          ...,\n",
              "          [ 0.03642822],\n",
              "          [ 0.07285643],\n",
              "          [ 0.07285643]],\n",
              "\n",
              "         [[ 1.0564183 ],\n",
              "          [ 1.0564183 ],\n",
              "          [ 1.0564183 ],\n",
              "          ...,\n",
              "          [ 0.03642822],\n",
              "          [ 0.10928465],\n",
              "          [ 0.10928465]]],\n",
              "\n",
              "\n",
              "        [[[ 1.4207004 ],\n",
              "          [ 1.4935569 ],\n",
              "          [ 1.4571286 ],\n",
              "          ...,\n",
              "          [ 0.36428216],\n",
              "          [ 0.25499752],\n",
              "          [ 0.25499752]],\n",
              "\n",
              "         [[ 1.4935569 ],\n",
              "          [ 1.3842722 ],\n",
              "          [ 1.3842722 ],\n",
              "          ...,\n",
              "          [ 0.36428216],\n",
              "          [ 0.25499752],\n",
              "          [ 0.25499752]],\n",
              "\n",
              "         [[ 1.4571286 ],\n",
              "          [ 1.4571286 ],\n",
              "          [ 1.4935569 ],\n",
              "          ...,\n",
              "          [ 0.32785395],\n",
              "          [ 0.29142573],\n",
              "          [ 0.29142573]],\n",
              "\n",
              "         ...,\n",
              "\n",
              "         [[ 1.0928465 ],\n",
              "          [ 1.0928465 ],\n",
              "          [ 1.0928465 ],\n",
              "          ...,\n",
              "          [ 0.07285643],\n",
              "          [ 0.07285643],\n",
              "          [ 0.03642822]],\n",
              "\n",
              "         [[ 1.0564183 ],\n",
              "          [ 1.0564183 ],\n",
              "          [ 1.0564183 ],\n",
              "          ...,\n",
              "          [ 0.07285643],\n",
              "          [ 0.07285643],\n",
              "          [ 0.        ]],\n",
              "\n",
              "         [[ 1.0564183 ],\n",
              "          [ 1.0564183 ],\n",
              "          [ 1.0564183 ],\n",
              "          ...,\n",
              "          [ 0.10928465],\n",
              "          [ 0.07285643],\n",
              "          [ 0.        ]]],\n",
              "\n",
              "\n",
              "        ...,\n",
              "\n",
              "\n",
              "        [[[ 1.5299851 ],\n",
              "          [ 1.4935569 ],\n",
              "          [ 1.3114158 ],\n",
              "          ...,\n",
              "          [ 0.29142573],\n",
              "          [ 0.2185693 ],\n",
              "          [ 0.2185693 ]],\n",
              "\n",
              "         [[ 1.6028415 ],\n",
              "          [ 1.5664133 ],\n",
              "          [ 1.3114158 ],\n",
              "          ...,\n",
              "          [ 0.29142573],\n",
              "          [ 0.2185693 ],\n",
              "          [ 0.2185693 ]],\n",
              "\n",
              "         [[ 1.4207004 ],\n",
              "          [ 1.4207004 ],\n",
              "          [ 1.347844  ],\n",
              "          ...,\n",
              "          [ 0.40071037],\n",
              "          [ 0.36428216],\n",
              "          [ 0.36428216]],\n",
              "\n",
              "         ...,\n",
              "\n",
              "         [[ 1.0564183 ],\n",
              "          [ 1.0564183 ],\n",
              "          [ 1.0564183 ],\n",
              "          ...,\n",
              "          [ 0.10928465],\n",
              "          [ 0.10928465],\n",
              "          [ 0.10928465]],\n",
              "\n",
              "         [[ 1.0564183 ],\n",
              "          [ 1.0564183 ],\n",
              "          [ 1.0564183 ],\n",
              "          ...,\n",
              "          [ 0.18214108],\n",
              "          [ 0.14571287],\n",
              "          [ 0.10928465]],\n",
              "\n",
              "         [[ 1.0564183 ],\n",
              "          [ 1.0564183 ],\n",
              "          [ 1.0199901 ],\n",
              "          ...,\n",
              "          [ 0.07285643],\n",
              "          [ 0.10928465],\n",
              "          [ 0.10928465]]],\n",
              "\n",
              "\n",
              "        [[[ 1.4935569 ],\n",
              "          [ 1.5664133 ],\n",
              "          [ 1.1657029 ],\n",
              "          ...,\n",
              "          [ 0.40071037],\n",
              "          [ 0.36428216],\n",
              "          [ 0.29142573]],\n",
              "\n",
              "         [[ 1.6028415 ],\n",
              "          [ 1.6028415 ],\n",
              "          [ 1.2749876 ],\n",
              "          ...,\n",
              "          [ 0.40071037],\n",
              "          [ 0.36428216],\n",
              "          [ 0.29142573]],\n",
              "\n",
              "         [[ 1.4207004 ],\n",
              "          [ 1.4207004 ],\n",
              "          [ 1.3114158 ],\n",
              "          ...,\n",
              "          [ 0.29142573],\n",
              "          [ 0.2185693 ],\n",
              "          [ 0.2185693 ]],\n",
              "\n",
              "         ...,\n",
              "\n",
              "         [[ 1.0564183 ],\n",
              "          [ 1.0564183 ],\n",
              "          [ 1.0564183 ],\n",
              "          ...,\n",
              "          [ 0.10928465],\n",
              "          [ 0.10928465],\n",
              "          [ 0.10928465]],\n",
              "\n",
              "         [[ 1.0564183 ],\n",
              "          [ 1.0564183 ],\n",
              "          [ 1.0564183 ],\n",
              "          ...,\n",
              "          [ 0.18214108],\n",
              "          [ 0.14571287],\n",
              "          [ 0.10928465]],\n",
              "\n",
              "         [[ 1.0564183 ],\n",
              "          [ 1.0564183 ],\n",
              "          [ 1.0199901 ],\n",
              "          ...,\n",
              "          [ 0.10928465],\n",
              "          [ 0.10928465],\n",
              "          [ 0.10928465]]],\n",
              "\n",
              "\n",
              "        [[[ 1.5299851 ],\n",
              "          [ 1.5664133 ],\n",
              "          [ 1.2021312 ],\n",
              "          ...,\n",
              "          [ 0.40071037],\n",
              "          [ 0.36428216],\n",
              "          [ 0.29142573]],\n",
              "\n",
              "         [[ 1.5664133 ],\n",
              "          [ 1.6028415 ],\n",
              "          [ 1.2749876 ],\n",
              "          ...,\n",
              "          [ 0.40071037],\n",
              "          [ 0.36428216],\n",
              "          [ 0.29142573]],\n",
              "\n",
              "         [[ 1.4207004 ],\n",
              "          [ 1.5664133 ],\n",
              "          [ 1.4207004 ],\n",
              "          ...,\n",
              "          [ 0.29142573],\n",
              "          [ 0.29142573],\n",
              "          [ 0.29142573]],\n",
              "\n",
              "         ...,\n",
              "\n",
              "         [[ 1.0928465 ],\n",
              "          [ 1.0928465 ],\n",
              "          [ 1.0928465 ],\n",
              "          ...,\n",
              "          [ 0.03642822],\n",
              "          [ 0.03642822],\n",
              "          [ 0.03642822]],\n",
              "\n",
              "         [[ 1.0928465 ],\n",
              "          [ 1.0928465 ],\n",
              "          [ 1.0928465 ],\n",
              "          ...,\n",
              "          [ 0.14571287],\n",
              "          [ 0.10928465],\n",
              "          [ 0.07285643]],\n",
              "\n",
              "         [[ 1.0928465 ],\n",
              "          [ 1.0928465 ],\n",
              "          [ 1.0564183 ],\n",
              "          ...,\n",
              "          [ 0.10928465],\n",
              "          [ 0.10928465],\n",
              "          [ 0.14571287]]]]], dtype=float32)"
            ]
          },
          "execution_count": 25,
          "metadata": {},
          "output_type": "execute_result"
        }
      ],
      "source": [
        "val = sample.next(); val[0]"
      ]
    },
    {
      "cell_type": "code",
      "execution_count": 25,
      "metadata": {
        "id": "TWivv9OkKWJa"
      },
      "outputs": [],
      "source": []
    },
    {
      "cell_type": "code",
      "execution_count": 26,
      "metadata": {
        "colab": {
          "base_uri": "https://localhost:8080/"
        },
        "collapsed": true,
        "id": "MpX5h5sGEbta",
        "outputId": "1a5b7661-9574-4905-de85-c10e60d7407c"
      },
      "outputs": [
        {
          "name": "stderr",
          "output_type": "stream",
          "text": [
            "WARNING:imageio:Lossy conversion from float32 to uint8. Range [0.0, 10.23343276977539]. Convert image to uint8 prior to saving to suppress this warning.\n",
            "WARNING:imageio:Lossy conversion from float32 to uint8. Range [0.0, 10.23343276977539]. Convert image to uint8 prior to saving to suppress this warning.\n",
            "WARNING:imageio:Lossy conversion from float32 to uint8. Range [0.0, 10.23343276977539]. Convert image to uint8 prior to saving to suppress this warning.\n",
            "WARNING:imageio:Lossy conversion from float32 to uint8. Range [0.0, 10.23343276977539]. Convert image to uint8 prior to saving to suppress this warning.\n",
            "WARNING:imageio:Lossy conversion from float32 to uint8. Range [0.0, 10.23343276977539]. Convert image to uint8 prior to saving to suppress this warning.\n",
            "WARNING:imageio:Lossy conversion from float32 to uint8. Range [0.0, 10.23343276977539]. Convert image to uint8 prior to saving to suppress this warning.\n",
            "WARNING:imageio:Lossy conversion from float32 to uint8. Range [0.0, 10.23343276977539]. Convert image to uint8 prior to saving to suppress this warning.\n",
            "WARNING:imageio:Lossy conversion from float32 to uint8. Range [0.0, 10.23343276977539]. Convert image to uint8 prior to saving to suppress this warning.\n",
            "WARNING:imageio:Lossy conversion from float32 to uint8. Range [0.0, 10.23343276977539]. Convert image to uint8 prior to saving to suppress this warning.\n",
            "WARNING:imageio:Lossy conversion from float32 to uint8. Range [0.0, 10.23343276977539]. Convert image to uint8 prior to saving to suppress this warning.\n",
            "WARNING:imageio:Lossy conversion from float32 to uint8. Range [0.0, 10.23343276977539]. Convert image to uint8 prior to saving to suppress this warning.\n",
            "WARNING:imageio:Lossy conversion from float32 to uint8. Range [0.0, 10.23343276977539]. Convert image to uint8 prior to saving to suppress this warning.\n",
            "WARNING:imageio:Lossy conversion from float32 to uint8. Range [0.0, 10.23343276977539]. Convert image to uint8 prior to saving to suppress this warning.\n",
            "WARNING:imageio:Lossy conversion from float32 to uint8. Range [0.0, 10.23343276977539]. Convert image to uint8 prior to saving to suppress this warning.\n",
            "WARNING:imageio:Lossy conversion from float32 to uint8. Range [0.0, 10.23343276977539]. Convert image to uint8 prior to saving to suppress this warning.\n",
            "WARNING:imageio:Lossy conversion from float32 to uint8. Range [0.0, 10.23343276977539]. Convert image to uint8 prior to saving to suppress this warning.\n",
            "WARNING:imageio:Lossy conversion from float32 to uint8. Range [0.0, 10.23343276977539]. Convert image to uint8 prior to saving to suppress this warning.\n",
            "WARNING:imageio:Lossy conversion from float32 to uint8. Range [0.0, 10.23343276977539]. Convert image to uint8 prior to saving to suppress this warning.\n",
            "WARNING:imageio:Lossy conversion from float32 to uint8. Range [0.0, 10.23343276977539]. Convert image to uint8 prior to saving to suppress this warning.\n",
            "WARNING:imageio:Lossy conversion from float32 to uint8. Range [0.0, 10.23343276977539]. Convert image to uint8 prior to saving to suppress this warning.\n",
            "WARNING:imageio:Lossy conversion from float32 to uint8. Range [0.0, 10.23343276977539]. Convert image to uint8 prior to saving to suppress this warning.\n",
            "WARNING:imageio:Lossy conversion from float32 to uint8. Range [0.0, 10.23343276977539]. Convert image to uint8 prior to saving to suppress this warning.\n",
            "WARNING:imageio:Lossy conversion from float32 to uint8. Range [0.0, 10.23343276977539]. Convert image to uint8 prior to saving to suppress this warning.\n",
            "WARNING:imageio:Lossy conversion from float32 to uint8. Range [0.0, 10.23343276977539]. Convert image to uint8 prior to saving to suppress this warning.\n",
            "WARNING:imageio:Lossy conversion from float32 to uint8. Range [0.0, 10.23343276977539]. Convert image to uint8 prior to saving to suppress this warning.\n",
            "WARNING:imageio:Lossy conversion from float32 to uint8. Range [0.0, 10.23343276977539]. Convert image to uint8 prior to saving to suppress this warning.\n",
            "WARNING:imageio:Lossy conversion from float32 to uint8. Range [0.0, 10.23343276977539]. Convert image to uint8 prior to saving to suppress this warning.\n",
            "WARNING:imageio:Lossy conversion from float32 to uint8. Range [0.0, 10.23343276977539]. Convert image to uint8 prior to saving to suppress this warning.\n",
            "WARNING:imageio:Lossy conversion from float32 to uint8. Range [0.0, 10.23343276977539]. Convert image to uint8 prior to saving to suppress this warning.\n",
            "WARNING:imageio:Lossy conversion from float32 to uint8. Range [0.0, 10.23343276977539]. Convert image to uint8 prior to saving to suppress this warning.\n",
            "WARNING:imageio:Lossy conversion from float32 to uint8. Range [0.0, 10.23343276977539]. Convert image to uint8 prior to saving to suppress this warning.\n",
            "WARNING:imageio:Lossy conversion from float32 to uint8. Range [0.0, 10.23343276977539]. Convert image to uint8 prior to saving to suppress this warning.\n",
            "WARNING:imageio:Lossy conversion from float32 to uint8. Range [0.0, 10.23343276977539]. Convert image to uint8 prior to saving to suppress this warning.\n",
            "WARNING:imageio:Lossy conversion from float32 to uint8. Range [0.0, 10.23343276977539]. Convert image to uint8 prior to saving to suppress this warning.\n",
            "WARNING:imageio:Lossy conversion from float32 to uint8. Range [0.0, 10.23343276977539]. Convert image to uint8 prior to saving to suppress this warning.\n",
            "WARNING:imageio:Lossy conversion from float32 to uint8. Range [0.0, 10.23343276977539]. Convert image to uint8 prior to saving to suppress this warning.\n",
            "WARNING:imageio:Lossy conversion from float32 to uint8. Range [0.0, 10.23343276977539]. Convert image to uint8 prior to saving to suppress this warning.\n",
            "WARNING:imageio:Lossy conversion from float32 to uint8. Range [0.0, 10.23343276977539]. Convert image to uint8 prior to saving to suppress this warning.\n",
            "WARNING:imageio:Lossy conversion from float32 to uint8. Range [0.0, 10.23343276977539]. Convert image to uint8 prior to saving to suppress this warning.\n",
            "WARNING:imageio:Lossy conversion from float32 to uint8. Range [0.0, 10.23343276977539]. Convert image to uint8 prior to saving to suppress this warning.\n",
            "WARNING:imageio:Lossy conversion from float32 to uint8. Range [0.0, 10.23343276977539]. Convert image to uint8 prior to saving to suppress this warning.\n",
            "WARNING:imageio:Lossy conversion from float32 to uint8. Range [0.0, 10.23343276977539]. Convert image to uint8 prior to saving to suppress this warning.\n",
            "WARNING:imageio:Lossy conversion from float32 to uint8. Range [0.0, 10.23343276977539]. Convert image to uint8 prior to saving to suppress this warning.\n",
            "WARNING:imageio:Lossy conversion from float32 to uint8. Range [0.0, 10.23343276977539]. Convert image to uint8 prior to saving to suppress this warning.\n",
            "WARNING:imageio:Lossy conversion from float32 to uint8. Range [0.0, 10.23343276977539]. Convert image to uint8 prior to saving to suppress this warning.\n",
            "WARNING:imageio:Lossy conversion from float32 to uint8. Range [0.0, 10.23343276977539]. Convert image to uint8 prior to saving to suppress this warning.\n",
            "WARNING:imageio:Lossy conversion from float32 to uint8. Range [0.0, 10.23343276977539]. Convert image to uint8 prior to saving to suppress this warning.\n",
            "WARNING:imageio:Lossy conversion from float32 to uint8. Range [0.0, 10.23343276977539]. Convert image to uint8 prior to saving to suppress this warning.\n",
            "WARNING:imageio:Lossy conversion from float32 to uint8. Range [0.0, 10.23343276977539]. Convert image to uint8 prior to saving to suppress this warning.\n",
            "WARNING:imageio:Lossy conversion from float32 to uint8. Range [0.0, 10.23343276977539]. Convert image to uint8 prior to saving to suppress this warning.\n",
            "WARNING:imageio:Lossy conversion from float32 to uint8. Range [0.0, 10.23343276977539]. Convert image to uint8 prior to saving to suppress this warning.\n",
            "WARNING:imageio:Lossy conversion from float32 to uint8. Range [0.0, 10.23343276977539]. Convert image to uint8 prior to saving to suppress this warning.\n",
            "WARNING:imageio:Lossy conversion from float32 to uint8. Range [0.0, 10.23343276977539]. Convert image to uint8 prior to saving to suppress this warning.\n",
            "WARNING:imageio:Lossy conversion from float32 to uint8. Range [0.0, 10.23343276977539]. Convert image to uint8 prior to saving to suppress this warning.\n",
            "WARNING:imageio:Lossy conversion from float32 to uint8. Range [0.0, 10.23343276977539]. Convert image to uint8 prior to saving to suppress this warning.\n",
            "WARNING:imageio:Lossy conversion from float32 to uint8. Range [0.0, 10.23343276977539]. Convert image to uint8 prior to saving to suppress this warning.\n",
            "WARNING:imageio:Lossy conversion from float32 to uint8. Range [0.0, 10.23343276977539]. Convert image to uint8 prior to saving to suppress this warning.\n",
            "WARNING:imageio:Lossy conversion from float32 to uint8. Range [0.0, 10.23343276977539]. Convert image to uint8 prior to saving to suppress this warning.\n",
            "WARNING:imageio:Lossy conversion from float32 to uint8. Range [0.0, 10.23343276977539]. Convert image to uint8 prior to saving to suppress this warning.\n",
            "WARNING:imageio:Lossy conversion from float32 to uint8. Range [0.0, 10.23343276977539]. Convert image to uint8 prior to saving to suppress this warning.\n",
            "WARNING:imageio:Lossy conversion from float32 to uint8. Range [0.0, 10.23343276977539]. Convert image to uint8 prior to saving to suppress this warning.\n",
            "WARNING:imageio:Lossy conversion from float32 to uint8. Range [0.0, 10.23343276977539]. Convert image to uint8 prior to saving to suppress this warning.\n",
            "WARNING:imageio:Lossy conversion from float32 to uint8. Range [0.0, 10.23343276977539]. Convert image to uint8 prior to saving to suppress this warning.\n",
            "WARNING:imageio:Lossy conversion from float32 to uint8. Range [0.0, 10.23343276977539]. Convert image to uint8 prior to saving to suppress this warning.\n",
            "WARNING:imageio:Lossy conversion from float32 to uint8. Range [0.0, 10.23343276977539]. Convert image to uint8 prior to saving to suppress this warning.\n",
            "WARNING:imageio:Lossy conversion from float32 to uint8. Range [0.0, 10.23343276977539]. Convert image to uint8 prior to saving to suppress this warning.\n",
            "WARNING:imageio:Lossy conversion from float32 to uint8. Range [0.0, 10.23343276977539]. Convert image to uint8 prior to saving to suppress this warning.\n",
            "WARNING:imageio:Lossy conversion from float32 to uint8. Range [0.0, 10.23343276977539]. Convert image to uint8 prior to saving to suppress this warning.\n",
            "WARNING:imageio:Lossy conversion from float32 to uint8. Range [0.0, 10.23343276977539]. Convert image to uint8 prior to saving to suppress this warning.\n",
            "WARNING:imageio:Lossy conversion from float32 to uint8. Range [0.0, 10.23343276977539]. Convert image to uint8 prior to saving to suppress this warning.\n",
            "WARNING:imageio:Lossy conversion from float32 to uint8. Range [0.0, 10.23343276977539]. Convert image to uint8 prior to saving to suppress this warning.\n",
            "WARNING:imageio:Lossy conversion from float32 to uint8. Range [0.0, 10.23343276977539]. Convert image to uint8 prior to saving to suppress this warning.\n",
            "WARNING:imageio:Lossy conversion from float32 to uint8. Range [0.0, 10.23343276977539]. Convert image to uint8 prior to saving to suppress this warning.\n",
            "WARNING:imageio:Lossy conversion from float32 to uint8. Range [0.0, 10.23343276977539]. Convert image to uint8 prior to saving to suppress this warning.\n",
            "WARNING:imageio:Lossy conversion from float32 to uint8. Range [0.0, 10.23343276977539]. Convert image to uint8 prior to saving to suppress this warning.\n"
          ]
        }
      ],
      "source": [
        "imageio.mimsave('./animation.gif', val[0][0], fps=10)"
      ]
    },
    {
      "cell_type": "code",
      "execution_count": 27,
      "metadata": {
        "colab": {
          "base_uri": "https://localhost:8080/",
          "height": 245
        },
        "id": "3aFA7bncEm4w",
        "outputId": "9afab960-efbd-4d99-a907-f34dd06a8dd9"
      },
      "outputs": [
        {
          "data": {
            "text/plain": [
              "<matplotlib.image.AxesImage at 0x796714f0d5d0>"
            ]
          },
          "execution_count": 27,
          "metadata": {},
          "output_type": "execute_result"
        },
        {
          "data": {
            "image/png": "[encoded data removed]",
            "text/plain": [
              "<Figure size 640x480 with 1 Axes>"
            ]
          },
          "metadata": {},
          "output_type": "display_data"
        }
      ],
      "source": [
        "plt.imshow(val[0][0][35])\n"
      ]
    },
    {
      "cell_type": "code",
      "execution_count": 28,
      "metadata": {
        "colab": {
          "base_uri": "https://localhost:8080/"
        },
        "id": "EfGAaGbDEp3I",
        "outputId": "5cb09463-740c-4aa2-a5af-861448816474"
      },
      "outputs": [
        {
          "data": {
            "text/plain": [
              "<tf.Tensor: shape=(), dtype=string, numpy=b'bin green in a five again'>"
            ]
          },
          "execution_count": 28,
          "metadata": {},
          "output_type": "execute_result"
        }
      ],
      "source": [
        "tf.strings.reduce_join([num_to_char(word) for word in val[1][0]])"
      ]
    },
    {
      "cell_type": "markdown",
      "metadata": {
        "id": "atkjhIjvEsqA"
      },
      "source": [
        "3. Design the Deep Neural Network *italicised text*"
      ]
    },
    {
      "cell_type": "code",
      "execution_count": 29,
      "metadata": {
        "id": "GNLzo3k9Etpz"
      },
      "outputs": [],
      "source": [
        "from tensorflow.keras.models import Sequential\n",
        "from tensorflow.keras.layers import Conv3D, LSTM, Dense, Dropout, Bidirectional, MaxPool3D, Activation, Reshape, SpatialDropout3D, BatchNormalization, TimeDistributed, Flatten\n",
        "from tensorflow.keras.optimizers import Adam\n",
        "from tensorflow.keras.callbacks import ModelCheckpoint, LearningRateScheduler"
      ]
    },
    {
      "cell_type": "code",
      "execution_count": 30,
      "metadata": {
        "colab": {
          "base_uri": "https://localhost:8080/"
        },
        "id": "G4uXSWoeEx92",
        "outputId": "62a1e677-0b82-4b82-803f-66defe85727c"
      },
      "outputs": [
        {
          "data": {
            "text/plain": [
              "(75, 46, 140, 1)"
            ]
          },
          "execution_count": 30,
          "metadata": {},
          "output_type": "execute_result"
        }
      ],
      "source": [
        "data.as_numpy_iterator().next()[0][0].shape"
      ]
    },
    {
      "cell_type": "code",
      "execution_count": 31,
      "metadata": {
        "id": "kCD8TEpkE1ud"
      },
      "outputs": [],
      "source": [
        "model = Sequential()\n",
        "model.add(Conv3D(128, 3, input_shape=(75,46,140,1), padding='same'))\n",
        "model.add(Activation('relu'))\n",
        "model.add(MaxPool3D((1,2,2)))\n",
        "\n",
        "model.add(Conv3D(256, 3, padding='same'))\n",
        "model.add(Activation('relu'))\n",
        "model.add(MaxPool3D((1,2,2)))\n",
        "\n",
        "model.add(Conv3D(75, 3, padding='same'))\n",
        "model.add(Activation('relu'))\n",
        "model.add(MaxPool3D((1,2,2)))\n",
        "\n",
        "model.add(TimeDistributed(Flatten()))\n",
        "\n",
        "model.add(Bidirectional(LSTM(128, kernel_initializer='Orthogonal', return_sequences=True)))\n",
        "model.add(Dropout(.5))\n",
        "\n",
        "model.add(Bidirectional(LSTM(128, kernel_initializer='Orthogonal', return_sequences=True)))\n",
        "model.add(Dropout(.5))\n",
        "\n",
        "model.add(Dense(char_to_num.vocabulary_size()+1, kernel_initializer='he_normal', activation='softmax'))"
      ]
    },
    {
      "cell_type": "code",
      "execution_count": 32,
      "metadata": {
        "colab": {
          "base_uri": "https://localhost:8080/"
        },
        "collapsed": true,
        "id": "UsVVuc7CE6SZ",
        "outputId": "e97ac7e5-7416-4140-83ca-9ee0c8ba9433"
      },
      "outputs": [
        {
          "name": "stdout",
          "output_type": "stream",
          "text": [
            "Model: \"sequential\"\n",
            "_________________________________________________________________\n",
            " Layer (type)                Output Shape              Param #   \n",
            "=================================================================\n",
            " conv3d (Conv3D)             (None, 75, 46, 140, 128)  3584      \n",
            "                                                                 \n",
            " activation (Activation)     (None, 75, 46, 140, 128)  0         \n",
            "                                                                 \n",
            " max_pooling3d (MaxPooling3D  (None, 75, 23, 70, 128)  0         \n",
            " )                                                               \n",
            "                                                                 \n",
            " conv3d_1 (Conv3D)           (None, 75, 23, 70, 256)   884992    \n",
            "                                                                 \n",
            " activation_1 (Activation)   (None, 75, 23, 70, 256)   0         \n",
            "                                                                 \n",
            " max_pooling3d_1 (MaxPooling  (None, 75, 11, 35, 256)  0         \n",
            " 3D)                                                             \n",
            "                                                                 \n",
            " conv3d_2 (Conv3D)           (None, 75, 11, 35, 75)    518475    \n",
            "                                                                 \n",
            " activation_2 (Activation)   (None, 75, 11, 35, 75)    0         \n",
            "                                                                 \n",
            " max_pooling3d_2 (MaxPooling  (None, 75, 5, 17, 75)    0         \n",
            " 3D)                                                             \n",
            "                                                                 \n",
            " time_distributed (TimeDistr  (None, 75, 6375)         0         \n",
            " ibuted)                                                         \n",
            "                                                                 \n",
            " bidirectional (Bidirectiona  (None, 75, 256)          6660096   \n",
            " l)                                                              \n",
            "                                                                 \n",
            " dropout (Dropout)           (None, 75, 256)           0         \n",
            "                                                                 \n",
            " bidirectional_1 (Bidirectio  (None, 75, 256)          394240    \n",
            " nal)                                                            \n",
            "                                                                 \n",
            " dropout_1 (Dropout)         (None, 75, 256)           0         \n",
            "                                                                 \n",
            " dense (Dense)               (None, 75, 41)            10537     \n",
            "                                                                 \n",
            "=================================================================\n",
            "Total params: 8,471,924\n",
            "Trainable params: 8,471,924\n",
            "Non-trainable params: 0\n",
            "_________________________________________________________________\n"
          ]
        }
      ],
      "source": [
        "model.summary()"
      ]
    },
    {
      "cell_type": "code",
      "execution_count": 33,
      "metadata": {
        "colab": {
          "base_uri": "https://localhost:8080/"
        },
        "id": "nrcjhUIdE-G6",
        "outputId": "cc36786d-d1e2-400c-f2d1-c8ecd6aa32eb"
      },
      "outputs": [
        {
          "name": "stdout",
          "output_type": "stream",
          "text": [
            "1/1 [==============================] - 16s 16s/step\n"
          ]
        }
      ],
      "source": [
        "yhat = model.predict(val[0])"
      ]
    },
    {
      "cell_type": "code",
      "execution_count": 34,
      "metadata": {
        "colab": {
          "base_uri": "https://localhost:8080/"
        },
        "id": "GETZ2AM6FBXh",
        "outputId": "74378c4f-555a-4a09-cee8-161dad94aa20"
      },
      "outputs": [
        {
          "data": {
            "text/plain": [
              "<tf.Tensor: shape=(), dtype=string, numpy=b'hnnnnnnnnnnnnnnnnnnnnnnnnnnnnnnnnnnnnnnnnnnnnnnnnnnnnnnnnnnnnnnnnnnnnnn'>"
            ]
          },
          "execution_count": 34,
          "metadata": {},
          "output_type": "execute_result"
        }
      ],
      "source": [
        "tf.strings.reduce_join([num_to_char(x) for x in tf.argmax(yhat[0],axis=1)])\n",
        "\n"
      ]
    },
    {
      "cell_type": "code",
      "execution_count": 35,
      "metadata": {
        "colab": {
          "base_uri": "https://localhost:8080/"
        },
        "id": "TPdkfAH_FCdi",
        "outputId": "a6edd58f-2fe7-45cc-8fa9-1cce7f1c169d"
      },
      "outputs": [
        {
          "data": {
            "text/plain": [
              "<tf.Tensor: shape=(), dtype=string, numpy=b'hnnnnnnnnnnnnnnnnnnnnnnnnnnnnnnnnnnnnnnnnnnnnnnnnnnnnnnnnnnnnnnnnnnnnnn'>"
            ]
          },
          "execution_count": 35,
          "metadata": {},
          "output_type": "execute_result"
        }
      ],
      "source": [
        "tf.strings.reduce_join([num_to_char(tf.argmax(x)) for x in yhat[0]])"
      ]
    },
    {
      "cell_type": "code",
      "execution_count": 36,
      "metadata": {
        "colab": {
          "base_uri": "https://localhost:8080/"
        },
        "id": "WsCSKPEkFG6N",
        "outputId": "655f076f-c26e-4bbc-ddcf-39fec8c26ab9"
      },
      "outputs": [
        {
          "data": {
            "text/plain": [
              "(None, 75, 46, 140, 1)"
            ]
          },
          "execution_count": 36,
          "metadata": {},
          "output_type": "execute_result"
        }
      ],
      "source": [
        "model.input_shape\n"
      ]
    },
    {
      "cell_type": "code",
      "execution_count": 37,
      "metadata": {
        "colab": {
          "base_uri": "https://localhost:8080/"
        },
        "id": "5QyUGCV6FKF2",
        "outputId": "c1c88abc-4813-4516-c208-e7c1abe21aba"
      },
      "outputs": [
        {
          "data": {
            "text/plain": [
              "(None, 75, 41)"
            ]
          },
          "execution_count": 37,
          "metadata": {},
          "output_type": "execute_result"
        }
      ],
      "source": [
        "model.output_shape"
      ]
    },
    {
      "cell_type": "markdown",
      "metadata": {
        "id": "Kmk2myfkFNlz"
      },
      "source": [
        "4. Setup Training Options and Train"
      ]
    },
    {
      "cell_type": "code",
      "execution_count": 38,
      "metadata": {
        "id": "7NjKsxAKFOVS"
      },
      "outputs": [],
      "source": [
        "def scheduler(epoch, lr):\n",
        "    if epoch < 30:\n",
        "        return lr\n",
        "    else:\n",
        "        return lr * tf.math.exp(-0.1)"
      ]
    },
    {
      "cell_type": "code",
      "execution_count": 39,
      "metadata": {
        "id": "MGm2pISoFRBW"
      },
      "outputs": [],
      "source": [
        "def CTCLoss(y_true, y_pred):\n",
        "    batch_len = tf.cast(tf.shape(y_true)[0], dtype=\"int64\")\n",
        "    input_length = tf.cast(tf.shape(y_pred)[1], dtype=\"int64\")\n",
        "    label_length = tf.cast(tf.shape(y_true)[1], dtype=\"int64\")\n",
        "\n",
        "    input_length = input_length * tf.ones(shape=(batch_len, 1), dtype=\"int64\")\n",
        "    label_length = label_length * tf.ones(shape=(batch_len, 1), dtype=\"int64\")\n",
        "\n",
        "    loss = tf.keras.backend.ctc_batch_cost(y_true, y_pred, input_length, label_length)\n",
        "    return loss"
      ]
    },
    {
      "cell_type": "code",
      "execution_count": 40,
      "metadata": {
        "id": "DusS_1z0FTvi"
      },
      "outputs": [],
      "source": [
        "class ProduceExample(tf.keras.callbacks.Callback):\n",
        "    def __init__(self, dataset) -> None:\n",
        "        self.dataset = dataset.as_numpy_iterator()\n",
        "\n",
        "    def on_epoch_end(self, epoch, logs=None) -> None:\n",
        "        data = self.dataset.next()\n",
        "        yhat = self.model.predict(data[0])\n",
        "        decoded = tf.keras.backend.ctc_decode(yhat, [75,75], greedy=False)[0][0].numpy()\n",
        "        for x in range(len(yhat)):\n",
        "            print('Original:', tf.strings.reduce_join(num_to_char(data[1][x])).numpy().decode('utf-8'))\n",
        "            print('Prediction:', tf.strings.reduce_join(num_to_char(decoded[x])).numpy().decode('utf-8'))\n",
        "            print('~'*100)\n"
      ]
    },
    {
      "cell_type": "code",
      "execution_count": 41,
      "metadata": {
        "id": "046XiMePFXFE"
      },
      "outputs": [],
      "source": [
        "model.compile(optimizer=Adam(learning_rate=0.0001), loss=CTCLoss)\n"
      ]
    },
    {
      "cell_type": "code",
      "execution_count": 42,
      "metadata": {
        "id": "yRoqkjhDFdSg"
      },
      "outputs": [],
      "source": [
        "checkpoint_callback = ModelCheckpoint(os.path.join('models','checkpoint'), monitor='loss', save_weights_only=True)\n"
      ]
    },
    {
      "cell_type": "code",
      "execution_count": 43,
      "metadata": {
        "id": "bLJHYew9Fff5"
      },
      "outputs": [],
      "source": [
        "schedule_callback = LearningRateScheduler(scheduler)\n"
      ]
    },
    {
      "cell_type": "code",
      "execution_count": 44,
      "metadata": {
        "id": "Ui7BvVpkFjhd"
      },
      "outputs": [],
      "source": [
        "example_callback = ProduceExample(test)\n"
      ]
    },
    {
      "cell_type": "code",
      "execution_count": 45,
      "metadata": {
        "id": "Mz3wOJhYIlFE"
      },
      "outputs": [],
      "source": [
        "# model.fit(train, validation_data=test, epochs=100, callbacks=[checkpoint_callback, schedule_callback, example_callback])\n",
        "\n"
      ]
    },
    {
      "cell_type": "markdown",
      "metadata": {
        "id": "AjzyMaMKI09t"
      },
      "source": [
        "5. Make a Prediction"
      ]
    },
    {
      "cell_type": "code",
      "execution_count": 46,
      "metadata": {
        "colab": {
          "base_uri": "https://localhost:8080/"
        },
        "id": "_TB3_e6oI2JA",
        "outputId": "67f64526-e519-4313-9963-8084e69a4c14"
      },
      "outputs": [
        {
          "name": "stdout",
          "output_type": "stream",
          "text": [
            "Access denied with the following error:\n"
          ]
        },
        {
          "name": "stderr",
          "output_type": "stream",
          "text": [
            "\n",
            " \tCannot retrieve the public link of the file. You may need to change\n",
            "\tthe permission to 'Anyone with the link', or have had many accesses. \n",
            "\n",
            "You may still be able to access the file from the browser:\n",
            "\n",
            "\t https://drive.google.com/uc?id=1vWscXs4Vt0a_1IH1-ct2TCgXAZT-N3_Y \n",
            "\n"
          ]
        },
        {
          "data": {
            "text/plain": [
              "['models/checkpoint.index',\n",
              " 'models/__MACOSX/._checkpoint.index',\n",
              " 'models/checkpoint.data-00000-of-00001',\n",
              " 'models/__MACOSX/._checkpoint.data-00000-of-00001',\n",
              " 'models/checkpoint',\n",
              " 'models/__MACOSX/._checkpoint']"
            ]
          },
          "execution_count": 46,
          "metadata": {},
          "output_type": "execute_result"
        }
      ],
      "source": [
        "url = 'https://drive.google.com/uc?id=1vWscXs4Vt0a_1IH1-ct2TCgXAZT-N3_Y'\n",
        "output = 'checkpoints.zip'\n",
        "gdown.download(url, output, quiet=False)\n",
        "gdown.extractall('checkpoints.zip', 'models')\n"
      ]
    },
    {
      "cell_type": "code",
      "execution_count": 47,
      "metadata": {
        "colab": {
          "base_uri": "https://localhost:8080/"
        },
        "id": "YClZhvs9T8T1",
        "outputId": "f0303b9a-40b4-4ca0-ea8f-3c47499fbb02"
      },
      "outputs": [
        {
          "data": {
            "text/plain": [
              "<tensorflow.python.checkpoint.checkpoint.CheckpointLoadStatus at 0x796714082560>"
            ]
          },
          "execution_count": 47,
          "metadata": {},
          "output_type": "execute_result"
        }
      ],
      "source": [
        "model.load_weights('models/checkpoint')"
      ]
    },
    {
      "cell_type": "code",
      "execution_count": 48,
      "metadata": {
        "id": "uJRs0dvYUUU0"
      },
      "outputs": [],
      "source": [
        "test_data = test.as_numpy_iterator()"
      ]
    },
    {
      "cell_type": "code",
      "execution_count": 49,
      "metadata": {
        "id": "ue1WGfKnUebw"
      },
      "outputs": [],
      "source": [
        " # sample = test_data.next()"
      ]
    },
    {
      "cell_type": "code",
      "execution_count": 50,
      "metadata": {
        "id": "13Qr0Y4RUg49"
      },
      "outputs": [],
      "source": [
        " # yhat = model.predict(sample[0])"
      ]
    },
    {
      "cell_type": "code",
      "execution_count": 51,
      "metadata": {
        "id": "8XDS2p_FUkkd"
      },
      "outputs": [],
      "source": [
        "# print('~'*100, 'REAL TEXT')\n",
        "# [tf.strings.reduce_join([num_to_char(word) for word in sentence]) for sentence in sample[1]]"
      ]
    },
    {
      "cell_type": "code",
      "execution_count": 52,
      "metadata": {
        "id": "xkrmA_zxUmJM"
      },
      "outputs": [],
      "source": [
        "# decoded = tf.keras.backend.ctc_decode(yhat, input_length=[75,75], greedy=True)[0][0].numpy()"
      ]
    },
    {
      "cell_type": "code",
      "execution_count": 53,
      "metadata": {
        "id": "S3pEk8YVUoMg"
      },
      "outputs": [],
      "source": [
        "# print('~'*100, 'PREDICTIONS')\n",
        "# [tf.strings.reduce_join([num_to_char(word) for word in sentence]) for sentence in decoded]"
      ]
    },
    {
      "cell_type": "markdown",
      "metadata": {
        "id": "qzV3IwF6UxmD"
      },
      "source": [
        "\n",
        "\n",
        "```\n",
        "`# This is formatted as code`\n",
        "```\n",
        "\n",
        "Test on a Video"
      ]
    },
    {
      "cell_type": "code",
      "execution_count": 54,
      "metadata": {
        "id": "g55YvppzUzBM"
      },
      "outputs": [],
      "source": [
        "sample = load_data(tf.convert_to_tensor('./data/s1/bras9a.mpg')) #./data/s1/bras9a.mpg"
      ]
    },
    {
      "cell_type": "code",
      "execution_count": 55,
      "metadata": {
        "colab": {
          "base_uri": "https://localhost:8080/"
        },
        "id": "XcvgLoHIU2Ti",
        "outputId": "114a2362-a2cb-4a01-cf54-5daf00237268"
      },
      "outputs": [
        {
          "name": "stdout",
          "output_type": "stream",
          "text": [
            "~~~~~~~~~~~~~~~~~~~~~~~~~~~~~~~~~~~~~~~~~~~~~~~~~~~~~~~~~~~~~~~~~~~~~~~~~~~~~~~~~~~~~~~~~~~~~~~~~~~~ REAL TEXT\n"
          ]
        },
        {
          "data": {
            "text/plain": [
              "[<tf.Tensor: shape=(), dtype=string, numpy=b'bin red at s nine again'>]"
            ]
          },
          "execution_count": 55,
          "metadata": {},
          "output_type": "execute_result"
        }
      ],
      "source": [
        "print('~'*100, 'REAL TEXT')\n",
        "#[tf.strings.reduce_join([num_to_char(tf.cast(word, tf.int32)) for word in sentence]) for sentence in [sample[1]]]\n",
        "[tf.strings.reduce_join([num_to_char(word) for word in sentence]) for sentence in [sample[1]]]"
      ]
    },
    {
      "cell_type": "markdown",
      "metadata": {
        "id": "HxeyZi9tq65Z"
      },
      "source": []
    },
    {
      "cell_type": "code",
      "execution_count": 56,
      "metadata": {
        "colab": {
          "base_uri": "https://localhost:8080/"
        },
        "id": "HRCz3nbKU3vv",
        "outputId": "d23d8337-e099-4c30-8a29-568d34f66a4c"
      },
      "outputs": [
        {
          "name": "stdout",
          "output_type": "stream",
          "text": [
            "1/1 [==============================] - 6s 6s/step\n"
          ]
        }
      ],
      "source": [
        "yhat = model.predict(tf.expand_dims(sample[0], axis=0))"
      ]
    },
    {
      "cell_type": "code",
      "execution_count": 57,
      "metadata": {
        "id": "J9qWPAQwf61x"
      },
      "outputs": [],
      "source": [
        "decoded = tf.keras.backend.ctc_decode(yhat, input_length=[75], greedy=True)[0][0].numpy()"
      ]
    },
    {
      "cell_type": "code",
      "execution_count": 58,
      "metadata": {
        "colab": {
          "base_uri": "https://localhost:8080/"
        },
        "id": "OCNd4Zwn_vAp",
        "outputId": "767c3f4f-1c65-4466-ce45-adba1ce1f5fb"
      },
      "outputs": [
        {
          "name": "stdout",
          "output_type": "stream",
          "text": [
            "~~~~~~~~~~~~~~~~~~~~~~~~~~~~~~~~~~~~~~~~~~~~~~~~~~~~~~~~~~~~~~~~~~~~~~~~~~~~~~~~~~~~~~~~~~~~~~~~~~~~ PREDICTIONS\n",
            "bin red at s nine again\n"
          ]
        }
      ],
      "source": [
        "decoded_sentences = [tf.strings.reduce_join([num_to_char(word) for word in sentence]) for sentence in decoded]\n",
        "\n",
        "# Convert tensors to strings\n",
        "decoded_sentences = [sentence.numpy().decode('utf-8') for sentence in decoded_sentences]\n",
        "\n",
        "# Print the separator and label\n",
        "print('~' * 100, 'PREDICTIONS')\n",
        "\n",
        "# Print the decoded sentences\n",
        "for sentence in decoded_sentences:\n",
        "    print(sentence)"
      ]
    },
    {
      "cell_type": "code",
      "execution_count": 59,
      "metadata": {
        "id": "A68faSgL_u9D"
      },
      "outputs": [],
      "source": [
        "from tensorflow.keras.models import load_model\n",
        "model.save(\"/content/drive/MyDrive/Mycheckpoint2.h5\")"
      ]
    }
  ],
  "metadata": {
    "colab": {
      "provenance": []
    },
    "kernelspec": {
      "display_name": "Python 3",
      "name": "python3"
    },
    "language_info": {
      "name": "python"
    }
  },
  "nbformat": 4,
  "nbformat_minor": 0
}
